{
  "nbformat": 4,
  "nbformat_minor": 0,
  "metadata": {
    "colab": {
      "name": "Documentclassy.ipynb",
      "provenance": [],
      "collapsed_sections": []
    },
    "kernelspec": {
      "name": "python3",
      "display_name": "Python 3"
    }
  },
  "cells": [
    {
      "cell_type": "markdown",
      "metadata": {
        "id": "SVJC3ZE8w2Im",
        "colab_type": "text"
      },
      "source": [
        "# **# Multilabel Text Classification**(Document Classification)\n",
        "\n",
        "\n",
        "> Document classification is an example of Machine Learning in the form of Natural Language Processing. By classifying text, we are aiming to assign one or more classes or categories to a document, making it easier to manage and sort.This is an active machine learning usecase where we need to   perform multilabel text classification into 'n' classes.\n",
        "\n",
        "Classes in which document must be classified into:\n",
        "\n",
        "\n",
        "1.   Abusive\n",
        "2.   Defamatory\n",
        "3.   Fake text\n",
        "4.   Hateful\n",
        "5.   Malignant\n",
        "6.   Racist\n",
        "7.   Sexist\n",
        "\n",
        "\n",
        "> Question arises, How can we turn this Active ML problem into a supervised ML Problem?\n",
        "*  We can use the words within a document as “features” to help us predict the classification of a document.\n",
        "*   To classify these documents, we would start by taking all of the words in the three documents in our training set and creating a table or vector from these words.\n",
        "Then for each of the training documents, we would create a vector by assigning a 1 if the word exists in the training document and a 0 if it doesn’t, tagging the document with the appropriate class\n",
        "\n",
        "\n",
        "\n",
        "> A more detailed look at real world document classification:\n",
        "\n",
        "\n",
        "1.   The Dataset\n",
        "2.   Pre-Processing\n",
        "3.   Classification Model\n",
        "\n",
        "---\n",
        "## > Dataset\n",
        "\n",
        "\n",
        "*   For real world document classification we need a large dataset.Large dataset is the most important thing for quality of model.  \n",
        "*  Dataset for various classes are collected from:\n",
        "  *   For Abusive ,Hateful,Malignant,Deformatory,Sexist from \n",
        "      kaggle's jigsaw toxic comment classification dataset.    \n",
        "  *   For Racist and Sexist dataset from hatespeech.com\n",
        "      (Predictive Features for Hate Speech Detection on Twitter)\n",
        " *Fake News Dataset from Kaggle.\n",
        " * HOT Dataset(Hinglish) for Abusive ,Deformatory.\n",
        "  * Hatespeech dataset for twitter.(Hateful,used twitter api for tweet extraction)\n",
        "  \n",
        "\n",
        "---\n",
        "## `Pre-Processing\n",
        "\n",
        "\n",
        "*   Preprocessing includes refining text from the dataset.\n",
        "*   Removing Stop Words,stemming does not play affect accuracy that much rather it takes lot more time,so I wrote function for stemming but not applied.\n",
        "*   TfidVectorizer is used for converting into vectorizers.\n",
        "\n",
        "\n",
        "---\n",
        "\n",
        "## Classification Model.\n",
        "\n",
        "\n",
        "1.   Creating model over large dataset crashed the session in my notebook ,so instead I used pipelines . \n",
        "2.   There are several methods for multiclass classification problem:\n",
        "  *   OnevsRest Classifier.(using MultiNomial NB,using Logistic Regression)\n",
        "  *   ChainClassifier.(Logistic Regression)\n",
        "3.This can also be solved by using LSTM(RNN),word embedding, layers using keras.\n",
        "\n",
        "\n",
        "---\n",
        "\n",
        "\n",
        "# Conclusion\n",
        "There's a little difference in accuracies of each model.(This is an approximate model)\n",
        "\n",
        "\n",
        "\n",
        "\n",
        "\n",
        "\n",
        "\n",
        "\n",
        "\n",
        "\n",
        "\n",
        "\n",
        "\n",
        "\n",
        "\n",
        "\n",
        "\n",
        "\n",
        "\n",
        "\n",
        "\n",
        "\n",
        "\n",
        "\n",
        "\n",
        "\n",
        "\n",
        "\n",
        "\n",
        "\n",
        "\n"
      ]
    },
    {
      "cell_type": "code",
      "metadata": {
        "id": "MEbqVWIy9lZE",
        "colab_type": "code",
        "colab": {
          "base_uri": "https://localhost:8080/",
          "height": 70
        },
        "outputId": "8ba9e5aa-6a9e-437e-97ac-95b434d63372"
      },
      "source": [
        "import re\n",
        "import matplotlib\n",
        "import numpy as np\n",
        "import matplotlib.pyplot as plt\n",
        "import pandas as pd\n",
        "import seaborn as sns"
      ],
      "execution_count": 1,
      "outputs": [
        {
          "output_type": "stream",
          "text": [
            "/usr/local/lib/python3.6/dist-packages/statsmodels/tools/_testing.py:19: FutureWarning: pandas.util.testing is deprecated. Use the functions in the public API at pandas.testing instead.\n",
            "  import pandas.util.testing as tm\n"
          ],
          "name": "stderr"
        }
      ]
    },
    {
      "cell_type": "code",
      "metadata": {
        "id": "BwEkBQep_BO6",
        "colab_type": "code",
        "outputId": "cd9a33b4-475c-4b5a-dab3-223a64f45296",
        "colab": {
          "base_uri": "https://localhost:8080/",
          "height": 50
        }
      },
      "source": [
        "from sklearn.model_selection import train_test_split\n",
        "from sklearn.feature_extraction.text import TfidfVectorizer\n",
        "from sklearn.naive_bayes import MultinomialNB\n",
        "from sklearn.metrics import accuracy_score\n",
        "from sklearn.multiclass import OneVsRestClassifier\n",
        "import nltk\n",
        "nltk.download('stopwords')\n",
        "from nltk.corpus import stopwords\n",
        "stop_words = set(stopwords.words('english'))\n",
        "from sklearn.svm import LinearSVC\n",
        "from sklearn.linear_model import LogisticRegression\n",
        "from sklearn.pipeline import Pipeline"
      ],
      "execution_count": 2,
      "outputs": [
        {
          "output_type": "stream",
          "text": [
            "[nltk_data] Downloading package stopwords to /root/nltk_data...\n",
            "[nltk_data]   Package stopwords is already up-to-date!\n"
          ],
          "name": "stdout"
        }
      ]
    },
    {
      "cell_type": "code",
      "metadata": {
        "id": "0gqQRsby_M9r",
        "colab_type": "code",
        "colab": {}
      },
      "source": [
        "df = pd.read_csv('finaal.csv')"
      ],
      "execution_count": 0,
      "outputs": []
    },
    {
      "cell_type": "code",
      "metadata": {
        "id": "3kauUfQ9_ldI",
        "colab_type": "code",
        "outputId": "ec32ed1e-a858-4d68-feb0-446d17229593",
        "colab": {
          "base_uri": "https://localhost:8080/",
          "height": 34
        }
      },
      "source": [
        "df.shape"
      ],
      "execution_count": 4,
      "outputs": [
        {
          "output_type": "execute_result",
          "data": {
            "text/plain": [
              "(229406, 8)"
            ]
          },
          "metadata": {
            "tags": []
          },
          "execution_count": 4
        }
      ]
    },
    {
      "cell_type": "code",
      "metadata": {
        "id": "vUuhV2oFFWgr",
        "colab_type": "code",
        "outputId": "20203765-3c8e-4d80-bd21-a5c998c3a19f",
        "colab": {
          "base_uri": "https://localhost:8080/",
          "height": 254
        }
      },
      "source": [
        "#finding the no.of documents in dataset with each tag\n",
        "df_toxic = df.drop(['text'], axis=1)\n",
        "counts = []\n",
        "categories = list(df_toxic.columns.values)\n",
        "for i in categories:\n",
        "    counts.append((i, df_toxic[i].sum()))\n",
        "df_stats = pd.DataFrame(counts, columns=['category', 'number_of_comments'])\n",
        "df_stats"
      ],
      "execution_count": 5,
      "outputs": [
        {
          "output_type": "execute_result",
          "data": {
            "text/html": [
              "<div>\n",
              "<style scoped>\n",
              "    .dataframe tbody tr th:only-of-type {\n",
              "        vertical-align: middle;\n",
              "    }\n",
              "\n",
              "    .dataframe tbody tr th {\n",
              "        vertical-align: top;\n",
              "    }\n",
              "\n",
              "    .dataframe thead th {\n",
              "        text-align: right;\n",
              "    }\n",
              "</style>\n",
              "<table border=\"1\" class=\"dataframe\">\n",
              "  <thead>\n",
              "    <tr style=\"text-align: right;\">\n",
              "      <th></th>\n",
              "      <th>category</th>\n",
              "      <th>number_of_comments</th>\n",
              "    </tr>\n",
              "  </thead>\n",
              "  <tbody>\n",
              "    <tr>\n",
              "      <th>0</th>\n",
              "      <td>abusive</td>\n",
              "      <td>23452.0</td>\n",
              "    </tr>\n",
              "    <tr>\n",
              "      <th>1</th>\n",
              "      <td>defamatory</td>\n",
              "      <td>13372.0</td>\n",
              "    </tr>\n",
              "    <tr>\n",
              "      <th>2</th>\n",
              "      <td>fake</td>\n",
              "      <td>1115.0</td>\n",
              "    </tr>\n",
              "    <tr>\n",
              "      <th>3</th>\n",
              "      <td>hate</td>\n",
              "      <td>2117.0</td>\n",
              "    </tr>\n",
              "    <tr>\n",
              "      <th>4</th>\n",
              "      <td>malignant</td>\n",
              "      <td>1962.0</td>\n",
              "    </tr>\n",
              "    <tr>\n",
              "      <th>5</th>\n",
              "      <td>racist</td>\n",
              "      <td>2931.0</td>\n",
              "    </tr>\n",
              "    <tr>\n",
              "      <th>6</th>\n",
              "      <td>sexist</td>\n",
              "      <td>12140.0</td>\n",
              "    </tr>\n",
              "  </tbody>\n",
              "</table>\n",
              "</div>"
            ],
            "text/plain": [
              "     category  number_of_comments\n",
              "0     abusive             23452.0\n",
              "1  defamatory             13372.0\n",
              "2        fake              1115.0\n",
              "3        hate              2117.0\n",
              "4   malignant              1962.0\n",
              "5      racist              2931.0\n",
              "6      sexist             12140.0"
            ]
          },
          "metadata": {
            "tags": []
          },
          "execution_count": 5
        }
      ]
    },
    {
      "cell_type": "code",
      "metadata": {
        "id": "LBzE0xkwFq7m",
        "colab_type": "code",
        "outputId": "bd5d36f3-c6bb-45c2-e3e0-ddc9ef38921f",
        "colab": {
          "base_uri": "https://localhost:8080/",
          "height": 418
        }
      },
      "source": [
        "df_stats.plot(x='category', y='number_of_comments', kind='bar', legend=False, grid=True, figsize=(8, 5))\n",
        "plt.title(\"Number of comments per category\")\n",
        "plt.ylabel('# of Occurrences', fontsize=12)\n",
        "plt.xlabel('category', fontsize=12)"
      ],
      "execution_count": 6,
      "outputs": [
        {
          "output_type": "execute_result",
          "data": {
            "text/plain": [
              "Text(0.5, 0, 'category')"
            ]
          },
          "metadata": {
            "tags": []
          },
          "execution_count": 6
        },
        {
          "output_type": "display_data",
          "data": {
            "image/png": "[encoded data removed]",
            "text/plain": [
              "<Figure size 576x360 with 1 Axes>"
            ]
          },
          "metadata": {
            "tags": [],
            "needs_background": "light"
          }
        }
      ]
    },
    {
      "cell_type": "code",
      "metadata": {
        "id": "IotI4EFXGDgG",
        "colab_type": "code",
        "colab": {}
      },
      "source": [
        "rowsums = df.iloc[:,:7].sum(axis=1)\n",
        "x=rowsums.value_counts()"
      ],
      "execution_count": 0,
      "outputs": []
    },
    {
      "cell_type": "code",
      "metadata": {
        "id": "dTY4LoSgaLuP",
        "colab_type": "code",
        "outputId": "fa1ee854-7c61-482f-817e-c056e607cf7e",
        "colab": {
          "base_uri": "https://localhost:8080/",
          "height": 370
        }
      },
      "source": [
        "plt.figure(figsize=(8,5))\n",
        "ax = sns.barplot(x.index, x.values)\n",
        "plt.title(\"Multiple categories per comment\")\n",
        "plt.ylabel('# of Occurrences', fontsize=12)\n",
        "plt.xlabel('# of categories', fontsize=12)"
      ],
      "execution_count": 8,
      "outputs": [
        {
          "output_type": "execute_result",
          "data": {
            "text/plain": [
              "Text(0.5, 0, '# of categories')"
            ]
          },
          "metadata": {
            "tags": []
          },
          "execution_count": 8
        },
        {
          "output_type": "display_data",
          "data": {
            "image/png": "[encoded data removed]",
            "text/plain": [
              "<Figure size 576x360 with 1 Axes>"
            ]
          },
          "metadata": {
            "tags": [],
            "needs_background": "light"
          }
        }
      ]
    },
    {
      "cell_type": "code",
      "metadata": {
        "id": "ZXYmZPb4aOAh",
        "colab_type": "code",
        "outputId": "89e9cc33-492d-4047-c404-39457e713de6",
        "colab": {
          "base_uri": "https://localhost:8080/",
          "height": 50
        }
      },
      "source": [
        "#percentage of documnets are not labelled\n",
        "print('Percentage of documents that are not labelled:')\n",
        "print(len(df[(df['abusive']==0) & (df['defamatory']==0) & (df['fake']==0) & (df['hate']== 0) & (df['malignant']==0) & (df['racist']==0) & (df['sexist']==0) ]) / len(df))"
      ],
      "execution_count": 9,
      "outputs": [
        {
          "output_type": "stream",
          "text": [
            "Percentage of documents that are not labelled:\n",
            "0.8814154817223613\n"
          ],
          "name": "stdout"
        }
      ]
    },
    {
      "cell_type": "code",
      "metadata": {
        "id": "rhkGcL0GaRio",
        "colab_type": "code",
        "outputId": "09c2b547-351c-477a-858e-5f581db8d6be",
        "colab": {
          "base_uri": "https://localhost:8080/",
          "height": 195
        }
      },
      "source": [
        "df.head()"
      ],
      "execution_count": 10,
      "outputs": [
        {
          "output_type": "execute_result",
          "data": {
            "text/html": [
              "<div>\n",
              "<style scoped>\n",
              "    .dataframe tbody tr th:only-of-type {\n",
              "        vertical-align: middle;\n",
              "    }\n",
              "\n",
              "    .dataframe tbody tr th {\n",
              "        vertical-align: top;\n",
              "    }\n",
              "\n",
              "    .dataframe thead th {\n",
              "        text-align: right;\n",
              "    }\n",
              "</style>\n",
              "<table border=\"1\" class=\"dataframe\">\n",
              "  <thead>\n",
              "    <tr style=\"text-align: right;\">\n",
              "      <th></th>\n",
              "      <th>abusive</th>\n",
              "      <th>defamatory</th>\n",
              "      <th>fake</th>\n",
              "      <th>hate</th>\n",
              "      <th>malignant</th>\n",
              "      <th>racist</th>\n",
              "      <th>sexist</th>\n",
              "      <th>text</th>\n",
              "    </tr>\n",
              "  </thead>\n",
              "  <tbody>\n",
              "    <tr>\n",
              "      <th>0</th>\n",
              "      <td>0.0</td>\n",
              "      <td>0.0</td>\n",
              "      <td>0.0</td>\n",
              "      <td>0.0</td>\n",
              "      <td>0.0</td>\n",
              "      <td>0.0</td>\n",
              "      <td>0.0</td>\n",
              "      <td>Explanation\\nWhy the edits made under my usern...</td>\n",
              "    </tr>\n",
              "    <tr>\n",
              "      <th>1</th>\n",
              "      <td>0.0</td>\n",
              "      <td>0.0</td>\n",
              "      <td>0.0</td>\n",
              "      <td>0.0</td>\n",
              "      <td>0.0</td>\n",
              "      <td>0.0</td>\n",
              "      <td>0.0</td>\n",
              "      <td>D'aww! He matches this background colour I'm s...</td>\n",
              "    </tr>\n",
              "    <tr>\n",
              "      <th>2</th>\n",
              "      <td>0.0</td>\n",
              "      <td>0.0</td>\n",
              "      <td>0.0</td>\n",
              "      <td>0.0</td>\n",
              "      <td>0.0</td>\n",
              "      <td>0.0</td>\n",
              "      <td>0.0</td>\n",
              "      <td>Hey man, I'm really not trying to edit war. It...</td>\n",
              "    </tr>\n",
              "    <tr>\n",
              "      <th>3</th>\n",
              "      <td>0.0</td>\n",
              "      <td>0.0</td>\n",
              "      <td>0.0</td>\n",
              "      <td>0.0</td>\n",
              "      <td>0.0</td>\n",
              "      <td>0.0</td>\n",
              "      <td>0.0</td>\n",
              "      <td>\"\\nMore\\nI can't make any real suggestions on ...</td>\n",
              "    </tr>\n",
              "    <tr>\n",
              "      <th>4</th>\n",
              "      <td>0.0</td>\n",
              "      <td>0.0</td>\n",
              "      <td>0.0</td>\n",
              "      <td>0.0</td>\n",
              "      <td>0.0</td>\n",
              "      <td>0.0</td>\n",
              "      <td>0.0</td>\n",
              "      <td>You, sir, are my hero. Any chance you remember...</td>\n",
              "    </tr>\n",
              "  </tbody>\n",
              "</table>\n",
              "</div>"
            ],
            "text/plain": [
              "   abusive  ...                                               text\n",
              "0      0.0  ...  Explanation\\nWhy the edits made under my usern...\n",
              "1      0.0  ...  D'aww! He matches this background colour I'm s...\n",
              "2      0.0  ...  Hey man, I'm really not trying to edit war. It...\n",
              "3      0.0  ...  \"\\nMore\\nI can't make any real suggestions on ...\n",
              "4      0.0  ...  You, sir, are my hero. Any chance you remember...\n",
              "\n",
              "[5 rows x 8 columns]"
            ]
          },
          "metadata": {
            "tags": []
          },
          "execution_count": 10
        }
      ]
    },
    {
      "cell_type": "code",
      "metadata": {
        "id": "pvQgQ7CNaVDo",
        "colab_type": "code",
        "colab": {}
      },
      "source": [
        "df['abusive'] = df['abusive'].astype(int)"
      ],
      "execution_count": 0,
      "outputs": []
    },
    {
      "cell_type": "code",
      "metadata": {
        "id": "-JVmCffMaXjl",
        "colab_type": "code",
        "outputId": "3ce0a1c9-d9c3-4f03-a859-393362a2523a",
        "colab": {
          "base_uri": "https://localhost:8080/",
          "height": 282
        }
      },
      "source": [
        "#finding how much words did each document ranges.\n",
        "lens = df.text.str.len()\n",
        "lens.hist(bins = np.arange(0,5000,50))"
      ],
      "execution_count": 12,
      "outputs": [
        {
          "output_type": "execute_result",
          "data": {
            "text/plain": [
              "<matplotlib.axes._subplots.AxesSubplot at 0x7fe8841c8ac8>"
            ]
          },
          "metadata": {
            "tags": []
          },
          "execution_count": 12
        },
        {
          "output_type": "display_data",
          "data": {
            "image/png": "[encoded data removed]",
            "text/plain": [
              "<Figure size 432x288 with 1 Axes>"
            ]
          },
          "metadata": {
            "tags": [],
            "needs_background": "light"
          }
        }
      ]
    },
    {
      "cell_type": "code",
      "metadata": {
        "id": "kZXPU1_Bayai",
        "colab_type": "code",
        "colab": {}
      },
      "source": [
        "#cleaning the text\n",
        "def clean_text(text):\n",
        "    text = text.lower()\n",
        "    text = re.sub(r\"what's\", \"what is \", text)\n",
        "    text = re.sub(r\"\\'s\", \" \", text)\n",
        "    text = re.sub(r\"\\'ve\", \" have \", text)\n",
        "    text = re.sub(r\"can't\", \"can not \", text)\n",
        "    text = re.sub(r\"n't\", \" not \", text)\n",
        "    text = re.sub(r\"i'm\", \"i am \", text)\n",
        "    text = re.sub(r\"\\'re\", \" are \", text)\n",
        "    text = re.sub(r\"\\'d\", \" would \", text)\n",
        "    text = re.sub(r\"\\'ll\", \" will \", text)\n",
        "    text = re.sub(r\"\\'scuse\", \" excuse \", text)\n",
        "    text = re.sub('\\W', ' ', text)\n",
        "    text = re.sub('\\s+', ' ', text)\n",
        "    text = text.strip(' ')\n",
        "    return text"
      ],
      "execution_count": 0,
      "outputs": []
    },
    {
      "cell_type": "code",
      "metadata": {
        "id": "Wez0USt5fFIx",
        "colab_type": "code",
        "colab": {}
      },
      "source": [
        "#stemming \n",
        "from nltk.stem.porter import PorterStemmer\n",
        "ps = PorterStemmer()\n",
        "def stemming(text):\n",
        "    text = text.split()\n",
        "    text = [ps.stem(word) for word in text if not word in stopwords.words('english')]\n",
        "    text = ' '.join(text)\n",
        "    return text"
      ],
      "execution_count": 0,
      "outputs": []
    },
    {
      "cell_type": "code",
      "metadata": {
        "id": "c3A7FQ8Fa5fQ",
        "colab_type": "code",
        "colab": {}
      },
      "source": [
        "df['text'] = df['text'].map(lambda com : clean_text(com))"
      ],
      "execution_count": 0,
      "outputs": []
    },
    {
      "cell_type": "code",
      "metadata": {
        "id": "wT1uyETMvVOk",
        "colab_type": "code",
        "outputId": "cb1dc84c-0b70-426f-f22d-ffd369cdd930",
        "colab": {
          "base_uri": "https://localhost:8080/",
          "height": 195
        }
      },
      "source": [
        "df.head()"
      ],
      "execution_count": 16,
      "outputs": [
        {
          "output_type": "execute_result",
          "data": {
            "text/html": [
              "<div>\n",
              "<style scoped>\n",
              "    .dataframe tbody tr th:only-of-type {\n",
              "        vertical-align: middle;\n",
              "    }\n",
              "\n",
              "    .dataframe tbody tr th {\n",
              "        vertical-align: top;\n",
              "    }\n",
              "\n",
              "    .dataframe thead th {\n",
              "        text-align: right;\n",
              "    }\n",
              "</style>\n",
              "<table border=\"1\" class=\"dataframe\">\n",
              "  <thead>\n",
              "    <tr style=\"text-align: right;\">\n",
              "      <th></th>\n",
              "      <th>abusive</th>\n",
              "      <th>defamatory</th>\n",
              "      <th>fake</th>\n",
              "      <th>hate</th>\n",
              "      <th>malignant</th>\n",
              "      <th>racist</th>\n",
              "      <th>sexist</th>\n",
              "      <th>text</th>\n",
              "    </tr>\n",
              "  </thead>\n",
              "  <tbody>\n",
              "    <tr>\n",
              "      <th>0</th>\n",
              "      <td>0</td>\n",
              "      <td>0.0</td>\n",
              "      <td>0.0</td>\n",
              "      <td>0.0</td>\n",
              "      <td>0.0</td>\n",
              "      <td>0.0</td>\n",
              "      <td>0.0</td>\n",
              "      <td>explanation why the edits made under my userna...</td>\n",
              "    </tr>\n",
              "    <tr>\n",
              "      <th>1</th>\n",
              "      <td>0</td>\n",
              "      <td>0.0</td>\n",
              "      <td>0.0</td>\n",
              "      <td>0.0</td>\n",
              "      <td>0.0</td>\n",
              "      <td>0.0</td>\n",
              "      <td>0.0</td>\n",
              "      <td>d aww he matches this background colour i am s...</td>\n",
              "    </tr>\n",
              "    <tr>\n",
              "      <th>2</th>\n",
              "      <td>0</td>\n",
              "      <td>0.0</td>\n",
              "      <td>0.0</td>\n",
              "      <td>0.0</td>\n",
              "      <td>0.0</td>\n",
              "      <td>0.0</td>\n",
              "      <td>0.0</td>\n",
              "      <td>hey man i am really not trying to edit war it ...</td>\n",
              "    </tr>\n",
              "    <tr>\n",
              "      <th>3</th>\n",
              "      <td>0</td>\n",
              "      <td>0.0</td>\n",
              "      <td>0.0</td>\n",
              "      <td>0.0</td>\n",
              "      <td>0.0</td>\n",
              "      <td>0.0</td>\n",
              "      <td>0.0</td>\n",
              "      <td>more i can not make any real suggestions on im...</td>\n",
              "    </tr>\n",
              "    <tr>\n",
              "      <th>4</th>\n",
              "      <td>0</td>\n",
              "      <td>0.0</td>\n",
              "      <td>0.0</td>\n",
              "      <td>0.0</td>\n",
              "      <td>0.0</td>\n",
              "      <td>0.0</td>\n",
              "      <td>0.0</td>\n",
              "      <td>you sir are my hero any chance you remember wh...</td>\n",
              "    </tr>\n",
              "  </tbody>\n",
              "</table>\n",
              "</div>"
            ],
            "text/plain": [
              "   abusive  ...                                               text\n",
              "0        0  ...  explanation why the edits made under my userna...\n",
              "1        0  ...  d aww he matches this background colour i am s...\n",
              "2        0  ...  hey man i am really not trying to edit war it ...\n",
              "3        0  ...  more i can not make any real suggestions on im...\n",
              "4        0  ...  you sir are my hero any chance you remember wh...\n",
              "\n",
              "[5 rows x 8 columns]"
            ]
          },
          "metadata": {
            "tags": []
          },
          "execution_count": 16
        }
      ]
    },
    {
      "cell_type": "code",
      "metadata": {
        "id": "_2nbkPHya9z8",
        "colab_type": "code",
        "colab": {}
      },
      "source": [
        "categories = ['abusive','defamatory','fake','hate','malignant','racist','sexist']"
      ],
      "execution_count": 0,
      "outputs": []
    },
    {
      "cell_type": "code",
      "metadata": {
        "id": "BDbEijPLclrV",
        "colab_type": "code",
        "outputId": "9682ee4e-240b-4628-9e72-deb0c6d32d71",
        "colab": {
          "base_uri": "https://localhost:8080/",
          "height": 402
        }
      },
      "source": [
        "df.sample(frac=1)"
      ],
      "execution_count": 18,
      "outputs": [
        {
          "output_type": "execute_result",
          "data": {
            "text/html": [
              "<div>\n",
              "<style scoped>\n",
              "    .dataframe tbody tr th:only-of-type {\n",
              "        vertical-align: middle;\n",
              "    }\n",
              "\n",
              "    .dataframe tbody tr th {\n",
              "        vertical-align: top;\n",
              "    }\n",
              "\n",
              "    .dataframe thead th {\n",
              "        text-align: right;\n",
              "    }\n",
              "</style>\n",
              "<table border=\"1\" class=\"dataframe\">\n",
              "  <thead>\n",
              "    <tr style=\"text-align: right;\">\n",
              "      <th></th>\n",
              "      <th>abusive</th>\n",
              "      <th>defamatory</th>\n",
              "      <th>fake</th>\n",
              "      <th>hate</th>\n",
              "      <th>malignant</th>\n",
              "      <th>racist</th>\n",
              "      <th>sexist</th>\n",
              "      <th>text</th>\n",
              "    </tr>\n",
              "  </thead>\n",
              "  <tbody>\n",
              "    <tr>\n",
              "      <th>189680</th>\n",
              "      <td>0</td>\n",
              "      <td>0.0</td>\n",
              "      <td>0.0</td>\n",
              "      <td>0.0</td>\n",
              "      <td>0.0</td>\n",
              "      <td>0.0</td>\n",
              "      <td>0.0</td>\n",
              "      <td>for your information wp polemic does not seem ...</td>\n",
              "    </tr>\n",
              "    <tr>\n",
              "      <th>210362</th>\n",
              "      <td>0</td>\n",
              "      <td>0.0</td>\n",
              "      <td>0.0</td>\n",
              "      <td>0.0</td>\n",
              "      <td>0.0</td>\n",
              "      <td>0.0</td>\n",
              "      <td>0.0</td>\n",
              "      <td>thx 4 ur concern on this issue referenceshttp ...</td>\n",
              "    </tr>\n",
              "    <tr>\n",
              "      <th>8413</th>\n",
              "      <td>0</td>\n",
              "      <td>0.0</td>\n",
              "      <td>0.0</td>\n",
              "      <td>0.0</td>\n",
              "      <td>0.0</td>\n",
              "      <td>0.0</td>\n",
              "      <td>0.0</td>\n",
              "      <td>i see nothing to keep from the list above if y...</td>\n",
              "    </tr>\n",
              "    <tr>\n",
              "      <th>151965</th>\n",
              "      <td>0</td>\n",
              "      <td>0.0</td>\n",
              "      <td>0.0</td>\n",
              "      <td>0.0</td>\n",
              "      <td>0.0</td>\n",
              "      <td>0.0</td>\n",
              "      <td>0.0</td>\n",
              "      <td>as sophia has patiently pointed out this artic...</td>\n",
              "    </tr>\n",
              "    <tr>\n",
              "      <th>154474</th>\n",
              "      <td>0</td>\n",
              "      <td>0.0</td>\n",
              "      <td>0.0</td>\n",
              "      <td>0.0</td>\n",
              "      <td>0.0</td>\n",
              "      <td>0.0</td>\n",
              "      <td>0.0</td>\n",
              "      <td>source of vandalism under the heading life as ...</td>\n",
              "    </tr>\n",
              "    <tr>\n",
              "      <th>...</th>\n",
              "      <td>...</td>\n",
              "      <td>...</td>\n",
              "      <td>...</td>\n",
              "      <td>...</td>\n",
              "      <td>...</td>\n",
              "      <td>...</td>\n",
              "      <td>...</td>\n",
              "      <td>...</td>\n",
              "    </tr>\n",
              "    <tr>\n",
              "      <th>75546</th>\n",
              "      <td>0</td>\n",
              "      <td>0.0</td>\n",
              "      <td>0.0</td>\n",
              "      <td>0.0</td>\n",
              "      <td>0.0</td>\n",
              "      <td>0.0</td>\n",
              "      <td>0.0</td>\n",
              "      <td>this is not plain english and are you telling ...</td>\n",
              "    </tr>\n",
              "    <tr>\n",
              "      <th>222526</th>\n",
              "      <td>0</td>\n",
              "      <td>0.0</td>\n",
              "      <td>0.0</td>\n",
              "      <td>0.0</td>\n",
              "      <td>0.0</td>\n",
              "      <td>0.0</td>\n",
              "      <td>0.0</td>\n",
              "      <td>jimbo wales are you awake he asleep please you...</td>\n",
              "    </tr>\n",
              "    <tr>\n",
              "      <th>13096</th>\n",
              "      <td>0</td>\n",
              "      <td>0.0</td>\n",
              "      <td>0.0</td>\n",
              "      <td>0.0</td>\n",
              "      <td>0.0</td>\n",
              "      <td>0.0</td>\n",
              "      <td>0.0</td>\n",
              "      <td>nomination i am officially nominating tenpound...</td>\n",
              "    </tr>\n",
              "    <tr>\n",
              "      <th>122521</th>\n",
              "      <td>0</td>\n",
              "      <td>0.0</td>\n",
              "      <td>0.0</td>\n",
              "      <td>0.0</td>\n",
              "      <td>0.0</td>\n",
              "      <td>0.0</td>\n",
              "      <td>0.0</td>\n",
              "      <td>officer names i think there needs to be more i...</td>\n",
              "    </tr>\n",
              "    <tr>\n",
              "      <th>22787</th>\n",
              "      <td>1</td>\n",
              "      <td>1.0</td>\n",
              "      <td>0.0</td>\n",
              "      <td>0.0</td>\n",
              "      <td>1.0</td>\n",
              "      <td>0.0</td>\n",
              "      <td>1.0</td>\n",
              "      <td>dreadstar littlemountain5 and some jerk on the...</td>\n",
              "    </tr>\n",
              "  </tbody>\n",
              "</table>\n",
              "<p>229406 rows × 8 columns</p>\n",
              "</div>"
            ],
            "text/plain": [
              "        abusive  ...                                               text\n",
              "189680        0  ...  for your information wp polemic does not seem ...\n",
              "210362        0  ...  thx 4 ur concern on this issue referenceshttp ...\n",
              "8413          0  ...  i see nothing to keep from the list above if y...\n",
              "151965        0  ...  as sophia has patiently pointed out this artic...\n",
              "154474        0  ...  source of vandalism under the heading life as ...\n",
              "...         ...  ...                                                ...\n",
              "75546         0  ...  this is not plain english and are you telling ...\n",
              "222526        0  ...  jimbo wales are you awake he asleep please you...\n",
              "13096         0  ...  nomination i am officially nominating tenpound...\n",
              "122521        0  ...  officer names i think there needs to be more i...\n",
              "22787         1  ...  dreadstar littlemountain5 and some jerk on the...\n",
              "\n",
              "[229406 rows x 8 columns]"
            ]
          },
          "metadata": {
            "tags": []
          },
          "execution_count": 18
        }
      ]
    },
    {
      "cell_type": "code",
      "metadata": {
        "id": "cU7LjCsecsMI",
        "colab_type": "code",
        "colab": {}
      },
      "source": [
        "#train-test split\n",
        "train, test = train_test_split(df, random_state=42, test_size=0.33, shuffle=True)"
      ],
      "execution_count": 0,
      "outputs": []
    },
    {
      "cell_type": "code",
      "metadata": {
        "id": "SN6GzT22c9_X",
        "colab_type": "code",
        "outputId": "92da964f-2595-4580-fcc2-f5952181994e",
        "colab": {
          "base_uri": "https://localhost:8080/",
          "height": 50
        }
      },
      "source": [
        "X_train = train.text\n",
        "X_test = test.text\n",
        "print(X_train.shape)\n",
        "print(X_test.shape)"
      ],
      "execution_count": 20,
      "outputs": [
        {
          "output_type": "stream",
          "text": [
            "(153702,)\n",
            "(75704,)\n"
          ],
          "name": "stdout"
        }
      ]
    },
    {
      "cell_type": "code",
      "metadata": {
        "id": "f6a_eAEtdJK3",
        "colab_type": "code",
        "colab": {}
      },
      "source": [
        "#builind pipeline\n",
        "NB_pipeline = Pipeline([\n",
        "                ('tfidf', TfidfVectorizer(stop_words=stop_words)),\n",
        "                ('clf', OneVsRestClassifier(MultinomialNB(\n",
        "                    fit_prior=True, class_prior=None))),\n",
        "            ])"
      ],
      "execution_count": 0,
      "outputs": []
    },
    {
      "cell_type": "code",
      "metadata": {
        "id": "zWY0bckxdbCB",
        "colab_type": "code",
        "outputId": "0ba13d4f-cc2a-439d-82f6-0ab83b7db64b",
        "colab": {
          "base_uri": "https://localhost:8080/",
          "height": 252
        }
      },
      "source": [
        "for category in categories:\n",
        "    print('... Processing {}'.format(category))\n",
        "    # train the model using X_dtm & y\n",
        "    NB_pipeline.fit(X_train, train[category])\n",
        "    # compute the testing accuracy\n",
        "    prediction = NB_pipeline.predict(X_test)\n",
        "    print('Test accuracy is {}'.format(accuracy_score(test[category], prediction)))"
      ],
      "execution_count": 22,
      "outputs": [
        {
          "output_type": "stream",
          "text": [
            "... Processing abusive\n",
            "Test accuracy is 0.9153017013632041\n",
            "... Processing defamatory\n",
            "Test accuracy is 0.9479023565465498\n",
            "... Processing fake\n",
            "Test accuracy is 0.995033287540949\n",
            "... Processing hate\n",
            "Test accuracy is 0.9909780196555004\n",
            "... Processing malignant\n",
            "Test accuracy is 0.9913742999048928\n",
            "... Processing racist\n",
            "Test accuracy is 0.987953080418472\n",
            "... Processing sexist\n",
            "Test accuracy is 0.9505838529007714\n"
          ],
          "name": "stdout"
        }
      ]
    },
    {
      "cell_type": "code",
      "metadata": {
        "id": "eJKmDUyhdh7Q",
        "colab_type": "code",
        "outputId": "ef8cfe64-add5-4663-cc56-cd101317fa89",
        "colab": {
          "base_uri": "https://localhost:8080/",
          "height": 252
        }
      },
      "source": [
        "LogReg_pipeline = Pipeline([\n",
        "                ('tfidf', TfidfVectorizer(stop_words=stop_words)),\n",
        "                ('clf', OneVsRestClassifier(LogisticRegression(solver='sag'), n_jobs=1)),\n",
        "            ])\n",
        "for category in categories:\n",
        "    print('... Processing {}'.format(category))\n",
        "    # train the model using X_dtm & y\n",
        "    LogReg_pipeline.fit(X_train, train[category])\n",
        "    # compute the testing accuracy\n",
        "    prediction = LogReg_pipeline.predict(X_test)\n",
        "    print('Test accuracy is {}'.format(accuracy_score(test[category], prediction)))"
      ],
      "execution_count": 23,
      "outputs": [
        {
          "output_type": "stream",
          "text": [
            "... Processing abusive\n",
            "Test accuracy is 0.9486552890203952\n",
            "... Processing defamatory\n",
            "Test accuracy is 0.9657085490859135\n",
            "... Processing fake\n",
            "Test accuracy is 0.9967505019549826\n",
            "... Processing hate\n",
            "Test accuracy is 0.9920876043537991\n",
            "... Processing malignant\n",
            "Test accuracy is 0.9918498362041636\n",
            "... Processing racist\n",
            "Test accuracy is 0.9911365317552573\n",
            "... Processing sexist\n",
            "Test accuracy is 0.9748097854802916\n"
          ],
          "name": "stdout"
        }
      ]
    },
    {
      "cell_type": "code",
      "metadata": {
        "id": "koGvs7dZeJM0",
        "colab_type": "code",
        "outputId": "06b395a8-e0c5-44f0-9d8b-b0ff15eb71a8",
        "colab": {
          "base_uri": "https://localhost:8080/",
          "height": 34
        }
      },
      "source": [
        "pip install scikit-multilearn"
      ],
      "execution_count": 33,
      "outputs": [
        {
          "output_type": "stream",
          "text": [
            "Requirement already satisfied: scikit-multilearn in /usr/local/lib/python3.6/dist-packages (0.2.0)\n"
          ],
          "name": "stdout"
        }
      ]
    },
    {
      "cell_type": "code",
      "metadata": {
        "id": "oHNG3K-RpEyj",
        "colab_type": "code",
        "colab": {}
      },
      "source": [
        "from skmultilearn.problem_transform import ClassifierChain\n",
        "from sklearn.linear_model import LogisticRegression"
      ],
      "execution_count": 0,
      "outputs": []
    },
    {
      "cell_type": "code",
      "metadata": {
        "id": "KpHIUwbrmipr",
        "colab_type": "code",
        "outputId": "e188e1f7-e741-4ad6-c70d-0c769b55c46a",
        "colab": {
          "base_uri": "https://localhost:8080/",
          "height": 134
        }
      },
      "source": [
        "from sklearn.feature_extraction.text import TfidfVectorizer\n",
        "vectorizer = TfidfVectorizer(strip_accents='unicode', analyzer='word', ngram_range=(1,3), norm='l2')\n",
        "vectorizer.fit(X_train)\n",
        "vectorizer.fit(X_test)"
      ],
      "execution_count": 35,
      "outputs": [
        {
          "output_type": "execute_result",
          "data": {
            "text/plain": [
              "TfidfVectorizer(analyzer='word', binary=False, decode_error='strict',\n",
              "                dtype=<class 'numpy.float64'>, encoding='utf-8',\n",
              "                input='content', lowercase=True, max_df=1.0, max_features=None,\n",
              "                min_df=1, ngram_range=(1, 3), norm='l2', preprocessor=None,\n",
              "                smooth_idf=True, stop_words=None, strip_accents='unicode',\n",
              "                sublinear_tf=False, token_pattern='(?u)\\\\b\\\\w\\\\w+\\\\b',\n",
              "                tokenizer=None, use_idf=True, vocabulary=None)"
            ]
          },
          "metadata": {
            "tags": []
          },
          "execution_count": 35
        }
      ]
    },
    {
      "cell_type": "code",
      "metadata": {
        "id": "k7q_w85HoCRv",
        "colab_type": "code",
        "colab": {}
      },
      "source": [
        "x_train = vectorizer.transform(X_train)\n",
        "y_train = train.drop(labels = ['text'], axis=1)\n",
        "\n",
        "x_test = vectorizer.transform(X_test)\n",
        "y_test = test.drop(labels = ['text'], axis=1)"
      ],
      "execution_count": 0,
      "outputs": []
    },
    {
      "cell_type": "code",
      "metadata": {
        "id": "7nM4OA7ErXDZ",
        "colab_type": "code",
        "colab": {}
      },
      "source": [
        "classifier = ClassifierChain(LogisticRegression())\n",
        "\n",
        "# Training logistic regression model on train data\n",
        "classifier.fit(x_train, y_train)\n",
        "\n",
        "# predict\n",
        "predictions = classifier.predict(x_test)\n",
        "\n",
        "# accuracy\n",
        "print(\"Accuracy = \",accuracy_score(y_test,predictions))\n",
        "print(\"\\n\")"
      ],
      "execution_count": 0,
      "outputs": []
    },
    {
      "cell_type": "code",
      "metadata": {
        "id": "PJLlzGP-lJhC",
        "colab_type": "code",
        "colab": {}
      },
      "source": [
        ""
      ],
      "execution_count": 0,
      "outputs": []
    }
  ]
}